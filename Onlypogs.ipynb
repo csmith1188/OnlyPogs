{
 "cells": [
  {
   "cell_type": "markdown",
   "id": "ef410e70",
   "metadata": {},
   "source": [
    "# Only Pogs\n"
   ]
  },
  {
   "cell_type": "markdown",
   "id": "a610788b",
   "metadata": {},
   "source": [
    "## Create Lore for Pog in json file"
   ]
  },
  {
   "cell_type": "markdown",
   "id": "800cafc5",
   "metadata": {},
   "source": [
    "Update Empty Section with Lore for Pogs. Make Sure to run the lore by smith to make sure its ok"
   ]
  },
  {
   "cell_type": "markdown",
   "id": "3b4440ee",
   "metadata": {},
   "source": [
    "#"
   ]
  }
 ],
 "metadata": {
  "kernelspec": {
   "display_name": "Python 3 (ipykernel)",
   "language": "python",
   "name": "python3"
  },
  "language_info": {
   "codemirror_mode": {
    "name": "ipython",
    "version": 3
   },
   "file_extension": ".py",
   "mimetype": "text/x-python",
   "name": "python",
   "nbconvert_exporter": "python",
   "pygments_lexer": "ipython3",
   "version": "3.9.1"
  }
 },
 "nbformat": 4,
 "nbformat_minor": 5
}
